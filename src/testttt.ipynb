{
 "cells": [
  {
   "cell_type": "code",
   "execution_count": 4,
   "id": "initial_id",
   "metadata": {
    "collapsed": true,
    "ExecuteTime": {
     "end_time": "2024-04-21T22:06:27.687555900Z",
     "start_time": "2024-04-21T22:06:27.669053200Z"
    }
   },
   "outputs": [],
   "source": [
    "import numpy as np\n",
    "from scipy.stats import norm\n",
    "\n",
    "N_prime = norm.pdf\n",
    "N = norm.cdf\n",
    "\n",
    "\n",
    "def black_scholes_call(S, K, T, r, sigma):\n",
    "    '''\n",
    "\n",
    "    :param S: Asset price\n",
    "    :param K: Strike price\n",
    "    :param T: Time to maturity\n",
    "    :param r: risk-free rate (treasury bills)\n",
    "    :param sigma: volatility\n",
    "    :return: call price\n",
    "    '''\n",
    "\n",
    "    ###standard black-scholes formula\n",
    "    d1 = (np.log(S / K) + (r + sigma ** 2 / 2) * T) / (sigma * np.sqrt(T))\n",
    "    d2 = d1 - sigma * np.sqrt(T)\n",
    "\n",
    "    call = S * N(d1) -  N(d2)* K * np.exp(-r * T)\n",
    "    return call\n",
    "\n",
    "def vega(S, K, T, r, sigma):\n",
    "    '''\n",
    "\n",
    "    :param S: Asset price\n",
    "    :param K: Strike price\n",
    "    :param T: Time to Maturity\n",
    "    :param r: risk-free rate (treasury bills)\n",
    "    :param sigma: volatility\n",
    "    :return: partial derivative w.r.t volatility\n",
    "    '''\n",
    "\n",
    "    ### calculating d1 from black scholes\n",
    "    d1 = (np.log(S / K) + (r + sigma ** 2 / 2) * T) / (sigma * np.sqrt(T))\n",
    "\n",
    "    #see hull derivatives chapter on greeks for reference\n",
    "    vega = S * N_prime(d1) * np.sqrt(T)\n",
    "    return vega\n",
    "\n",
    "\n",
    "\n",
    "def implied_volatility_call(C, S, K, T, r, tol=0.0001,\n",
    "                            max_iterations=100):\n",
    "    '''\n",
    "\n",
    "    :param C: Observed call price\n",
    "    :param S: Asset price\n",
    "    :param K: Strike Price\n",
    "    :param T: Time to Maturity\n",
    "    :param r: riskfree rate\n",
    "    :param tol: error tolerance in result\n",
    "    :param max_iterations: max iterations to update vol\n",
    "    :return: implied volatility in percent\n",
    "    '''\n",
    "\n",
    "\n",
    "    ### assigning initial volatility estimate for input in Newton_rap procedure\n",
    "    sigma = 0.3\n",
    "    \n",
    "    for i in range(max_iterations):\n",
    "\n",
    "        ### calculate difference between blackscholes price and market price with\n",
    "        ### iteratively updated volality estimate\n",
    "        diff = black_scholes_call(S, K, T, r, sigma) - C\n",
    "\n",
    "        ###break if difference is less than specified tolerance level\n",
    "        if abs(diff) < tol:\n",
    "            print(f'found on {i}th iteration')\n",
    "            print(f'difference is equal to {diff}')\n",
    "            break\n",
    "\n",
    "        ### use newton rapshon to update the estimate\n",
    "        sigma = sigma - diff / vega(S, K, T, r, sigma)\n",
    "\n",
    "    return sigma"
   ]
  },
  {
   "cell_type": "code",
   "execution_count": 19,
   "outputs": [
    {
     "name": "stdout",
     "output_type": "stream",
     "text": [
      "Implied volatility using Newton Rapshon is:  nan\n"
     ]
    },
    {
     "name": "stderr",
     "output_type": "stream",
     "text": [
      "C:\\Users\\Legion\\AppData\\Local\\Temp\\ipykernel_25476\\2656754300.py:77: RuntimeWarning: divide by zero encountered in scalar divide\n",
      "  sigma = sigma - diff / vega(S, K, T, r, sigma)\n",
      "C:\\Users\\Legion\\AppData\\Local\\Temp\\ipykernel_25476\\2656754300.py:20: RuntimeWarning: invalid value encountered in scalar divide\n",
      "  d1 = (np.log(S / K) + (r + sigma ** 2 / 2) * T) / (sigma * np.sqrt(T))\n",
      "C:\\Users\\Legion\\AppData\\Local\\Temp\\ipykernel_25476\\2656754300.py:38: RuntimeWarning: invalid value encountered in scalar divide\n",
      "  d1 = (np.log(S / K) + (r + sigma ** 2 / 2) * T) / (sigma * np.sqrt(T))\n"
     ]
    }
   ],
   "source": [
    "observed_price = 620\n",
    "S = 9991\n",
    "K = 10000\n",
    "T = 250 / 252\n",
    "r = 0.0654\n",
    "\n",
    "imp_vol = implied_volatility_call(observed_price, S, K, T, r)\n",
    "print('Implied volatility using Newton Rapshon is: ',imp_vol)"
   ],
   "metadata": {
    "collapsed": false,
    "ExecuteTime": {
     "end_time": "2024-04-21T22:08:17.786374600Z",
     "start_time": "2024-04-21T22:08:17.771548300Z"
    }
   },
   "id": "8700cb4d58614199"
  },
  {
   "cell_type": "code",
   "execution_count": null,
   "outputs": [],
   "source": [],
   "metadata": {
    "collapsed": false
   },
   "id": "b03956c183b73385"
  }
 ],
 "metadata": {
  "kernelspec": {
   "display_name": "Python 3",
   "language": "python",
   "name": "python3"
  },
  "language_info": {
   "codemirror_mode": {
    "name": "ipython",
    "version": 2
   },
   "file_extension": ".py",
   "mimetype": "text/x-python",
   "name": "python",
   "nbconvert_exporter": "python",
   "pygments_lexer": "ipython2",
   "version": "2.7.6"
  }
 },
 "nbformat": 4,
 "nbformat_minor": 5
}
